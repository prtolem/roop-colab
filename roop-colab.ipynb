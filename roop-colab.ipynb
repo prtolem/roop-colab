{
  "nbformat": 4,
  "nbformat_minor": 0,
  "metadata": {
    "colab": {
      "provenance": [],
      "authorship_tag": "ABX9TyP4z4UW4tct0Uu2iQQvZWkI",
      "include_colab_link": true
    },
    "kernelspec": {
      "name": "python3",
      "display_name": "Python 3"
    },
    "language_info": {
      "name": "python"
    }
  },
  "cells": [
    {
      "cell_type": "markdown",
      "metadata": {
        "id": "view-in-github",
        "colab_type": "text"
      },
      "source": [
        "<a href=\"https://colab.research.google.com/github/prtolem/roop-colab/blob/branch/roop-colab.ipynb\" target=\"_parent\"><img src=\"https://colab.research.google.com/assets/colab-badge.svg\" alt=\"Open In Colab\"/></a>"
      ]
    },
    {
      "cell_type": "code",
      "execution_count": null,
      "metadata": {
        "id": "y9M_8a4JLXZo"
      },
      "outputs": [],
      "source": [
        "!git clone https://github.com/s0md3v/roop\n",
        "%cd roop\n",
        "!pip install onnxruntime-gpu && pip install -r requirements.txt\n",
        "!wget https://huggingface.co/MonsterMMORPG/SECourses/resolve/main/inswapper_128.onnx"
      ]
    },
    {
      "cell_type": "markdown",
      "source": [
        "replace the data with your own:\n",
        "- photo_test.jpg - the photo needed for the replacement\n",
        "- video_test.mp4 - the video in which the face will be replaced\n",
        "- face_changed_video.mp4 - final result"
      ],
      "metadata": {
        "id": "Mv1MArk4LhFm"
      }
    },
    {
      "cell_type": "code",
      "source": [
        "!python run.py -f photo_test.jpg -t video_test.mp4 -o face_changed_video.mp4 --keep-frames --keep-fps --gpu"
      ],
      "metadata": {
        "id": "pNjqFSI4LZ6n"
      },
      "execution_count": null,
      "outputs": []
    }
  ]
}